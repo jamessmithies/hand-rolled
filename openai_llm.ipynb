{
 "cells": [
  {
   "cell_type": "code",
   "execution_count": 1,
   "metadata": {},
   "outputs": [
    {
     "name": "stderr",
     "output_type": "stream",
     "text": [
      "/Users/u1155516/Dropbox/Technical/llms/dev/hand-rolled/.mac_venv/lib/python3.9/site-packages/urllib3/__init__.py:35: NotOpenSSLWarning: urllib3 v2 only supports OpenSSL 1.1.1+, currently the 'ssl' module is compiled with 'LibreSSL 2.8.3'. See: https://github.com/urllib3/urllib3/issues/3020\n",
      "  warnings.warn(\n",
      "/var/folders/gt/g1zx5yxj7rnb92zw86rw80b9z9w7zm/T/ipykernel_67629/3718722534.py:19: DeprecationWarning: Call to deprecated class method from_defaults. (ServiceContext is deprecated, please use `llama_index.settings.Settings` instead.) -- Deprecated since version 0.10.0.\n",
      "  service_context = ServiceContext.from_defaults(\n"
     ]
    }
   ],
   "source": [
    "# Set up the environment\n",
    "\n",
    "import os.path, logging, sys, os\n",
    "from dotenv import load_dotenv\n",
    "from llama_index.core import (\n",
    "    VectorStoreIndex,\n",
    "    SimpleDirectoryReader,\n",
    "    StorageContext,\n",
    "    ServiceContext,\n",
    "    load_index_from_storage,\n",
    ")\n",
    "from llama_index.llms.openai import OpenAI\n",
    "\n",
    "# Set the OpenAI API key by loading the .env file\n",
    "load_dotenv()\n",
    "api_key = os.getenv(\"OPENAI_API_KEY\")\n",
    "\n",
    "# Use the latest OpenAI models that support function calling API\n",
    "service_context = ServiceContext.from_defaults(\n",
    "    llm=OpenAI(model=\"gpt-3.5-turbo-0613\")\n",
    ")\n",
    "\n",
    "# check if storage already exists\n",
    "if not os.path.exists(\"./storage_test\"):\n",
    "    # load the documents and create the index\n",
    "    documents = SimpleDirectoryReader(\"data_test\").load_data()\n",
    "    index = VectorStoreIndex.from_documents(documents)\n",
    "    # store it for later\n",
    "    index.storage_context.persist()\n",
    "else:\n",
    "    # load the existing index\n",
    "    storage_context = StorageContext.from_defaults(persist_dir=\"./storage_test\")\n",
    "    index = load_index_from_storage(storage_context)\n",
    "\n"
   ]
  },
  {
   "cell_type": "code",
   "execution_count": 2,
   "metadata": {},
   "outputs": [
    {
     "name": "stdout",
     "output_type": "stream",
     "text": [
      "The documents provided are excerpts from parliamentary debates dated May 10, 1901. The first document discusses the arrangements for the official publication of Hansard reports and their distribution to members. The second document includes the Governor-General's speech summoning the House, followed by a debate on the Acts Interpretation Bill presented by Mr. Deakin.\n"
     ]
    }
   ],
   "source": [
    "# Request a basic summary of the documents in the corpus\n",
    "query_engine = index.as_query_engine()\n",
    "response = query_engine.query(\"Summarize the documents\")\n",
    "print(response)"
   ]
  },
  {
   "cell_type": "code",
   "execution_count": 3,
   "metadata": {},
   "outputs": [],
   "source": [
    "#Configure chat engine\n",
    "chat_engine = index.as_chat_engine(chat_mode=\"openai\", verbose=True)"
   ]
  },
  {
   "cell_type": "code",
   "execution_count": 4,
   "metadata": {},
   "outputs": [
    {
     "name": "stdout",
     "output_type": "stream",
     "text": [
      "Added user message to memory: What were the main themes in Australian politics in 1901?\n",
      "=== Calling Function ===\n",
      "Calling function: query_engine_tool with args: {\"input\":\"Main themes in Australian politics in 1901\"}\n",
      "Got output: The main themes in Australian politics in 1901 revolved around the swearing in of members of the Parliament, the allocation of ministerial positions, and the representation of different states and territories in the government. Additionally, the focus was on the formation of the government structure, including the Prime Minister, Treasurer, Minister for Defence, and other key positions. The representation of various electorates from different states was also a significant theme in Australian politics during that time.\n",
      "========================\n",
      "\n"
     ]
    }
   ],
   "source": [
    "response = chat_engine.chat(\n",
    "    \"What were the main themes in Australian politics in 1901?\", tool_choice=\"query_engine_tool\"\n",
    ")"
   ]
  },
  {
   "cell_type": "code",
   "execution_count": 5,
   "metadata": {},
   "outputs": [
    {
     "name": "stdout",
     "output_type": "stream",
     "text": [
      "The main themes in Australian politics in 1901 included the swearing\n",
      "in of members of the Parliament, allocation of ministerial positions,\n",
      "representation of different states and territories in the government,\n",
      "formation of the government structure, and representation of various\n",
      "electorates from different states.\n"
     ]
    }
   ],
   "source": [
    "import textwrap\n",
    "\n",
    "print('\\n'.join(textwrap.wrap(str(response), width=70)))"
   ]
  }
 ],
 "metadata": {
  "kernelspec": {
   "display_name": "Python 3",
   "language": "python",
   "name": "python3"
  },
  "language_info": {
   "codemirror_mode": {
    "name": "ipython",
    "version": 3
   },
   "file_extension": ".py",
   "mimetype": "text/x-python",
   "name": "python",
   "nbconvert_exporter": "python",
   "pygments_lexer": "ipython3",
   "version": "3.9.6"
  }
 },
 "nbformat": 4,
 "nbformat_minor": 2
}
